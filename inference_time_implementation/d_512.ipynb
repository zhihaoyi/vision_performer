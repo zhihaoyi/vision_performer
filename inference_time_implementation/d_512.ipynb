{
 "cells": [
  {
   "cell_type": "code",
   "execution_count": 1,
   "id": "771e83fd",
   "metadata": {},
   "outputs": [
    {
     "data": {
      "text/plain": [
       "[PhysicalDevice(name='/physical_device:GPU:0', device_type='GPU')]"
      ]
     },
     "execution_count": 1,
     "metadata": {},
     "output_type": "execute_result"
    }
   ],
   "source": [
    "import tensorflow as tf\n",
    "import numpy as np\n",
    "import matplotlib.pyplot as plt\n",
    "\n",
    "import sys\n",
    "import os\n",
    "import pickle\n",
    "\n",
    "# check GPU\n",
    "tf.config.list_physical_devices('GPU')"
   ]
  },
  {
   "cell_type": "code",
   "execution_count": 2,
   "id": "7b38b9e4",
   "metadata": {},
   "outputs": [
    {
     "name": "stdout",
     "output_type": "stream",
     "text": [
      "number of test sample: 64\n",
      "test sample shape: (256, 256, 3)\n"
     ]
    }
   ],
   "source": [
    "# create test samples\n",
    "batch_size = 64\n",
    "image_dim = 256\n",
    "channel = 3\n",
    "test_sample = np.random.rand(batch_size, image_dim, image_dim, channel)\n",
    "print(f'number of test sample: {batch_size}\\ntest sample shape: {(image_dim, image_dim, channel)}')"
   ]
  },
  {
   "cell_type": "code",
   "execution_count": 3,
   "id": "9fbec4c0",
   "metadata": {},
   "outputs": [],
   "source": [
    "# shared attributes\n",
    "default_params_1 = {'d_model': 512,\n",
    "                    'image_size': image_dim,\n",
    "                    'num_layers': 6,\n",
    "                    'num_classes': 10,\n",
    "                    'num_heads': 8,\n",
    "                    'mlp_dim': 2046\n",
    "                   }\n",
    "default_params_2 = {'lr': 1e-4,\n",
    "                    'weight_decay': 1e-4,\n",
    "                    'input_shape': test_sample.shape[1:]\n",
    "}\n",
    "\n",
    "# ViP attributes\n",
    "ViP_params = {'random_features': 16,\n",
    "              'kernel_transformation': 'softmax'}\n",
    "\n",
    "# patch_size -> L\n",
    "patch_size_vit = [64, 32, 16, 8, 4]\n",
    "patch_size_vip = [64, 32, 16, 8, 4, 2]"
   ]
  },
  {
   "cell_type": "code",
   "execution_count": 4,
   "id": "d9dc776a",
   "metadata": {},
   "outputs": [],
   "source": [
    "curr_dir = os.getcwd() \n",
    "parent_dir = os.path.abspath(os.path.join(curr_dir, os.pardir))\n",
    "sys.path.append(parent_dir)"
   ]
  },
  {
   "cell_type": "code",
   "execution_count": 5,
   "id": "6006e499",
   "metadata": {},
   "outputs": [
    {
     "name": "stdout",
     "output_type": "stream",
     "text": [
      "ViT with L=16 and 26274390 parameters\n",
      "64/64 [==============================] - 2s 10ms/step\n",
      "64/64 [==============================] - 1s 10ms/step\n",
      "64/64 [==============================] - 1s 9ms/step\n",
      "64/64 [==============================] - 1s 9ms/step\n",
      "64/64 [==============================] - 1s 9ms/step\n",
      "Inference Time: 1023.725\n",
      "*******************************************************************************\n",
      "ViT with L=64 and 21580374 parameters\n",
      "64/64 [==============================] - 1s 12ms/step\n",
      "64/64 [==============================] - 1s 10ms/step\n",
      "64/64 [==============================] - 1s 10ms/step\n",
      "64/64 [==============================] - 1s 9ms/step\n",
      "64/64 [==============================] - 1s 9ms/step\n",
      "Inference Time: 916.169\n",
      "*******************************************************************************\n",
      "ViT with L=256 and 20499030 parameters\n",
      "64/64 [==============================] - 1s 12ms/step\n",
      "64/64 [==============================] - 1s 11ms/step\n",
      "64/64 [==============================] - 1s 11ms/step\n",
      "64/64 [==============================] - 1s 11ms/step\n",
      "64/64 [==============================] - 1s 11ms/step\n",
      "Inference Time: 1003.674\n",
      "*******************************************************************************\n",
      "ViT with L=1024 and 20597334 parameters\n",
      "64/64 [==============================] - 2s 22ms/step\n",
      "64/64 [==============================] - 1s 21ms/step\n",
      "64/64 [==============================] - 1s 21ms/step\n",
      "64/64 [==============================] - 1s 21ms/step\n",
      "64/64 [==============================] - 1s 21ms/step\n",
      "Inference Time: 1640.079\n",
      "*******************************************************************************\n",
      "ViT with L=4096 and 22096470 parameters\n",
      "64/64 [==============================] - 9s 127ms/step\n",
      "64/64 [==============================] - 8s 126ms/step\n",
      "64/64 [==============================] - 8s 126ms/step\n",
      "64/64 [==============================] - 8s 126ms/step\n",
      "64/64 [==============================] - 8s 126ms/step\n",
      "Inference Time: 8341.614\n",
      "*******************************************************************************\n"
     ]
    }
   ],
   "source": [
    "from utils import ViT_inf_time_check\n",
    "vit_inf= ViT_inf_time_check(default_params_1, default_params_2, patch_size_vit, test_sample)"
   ]
  },
  {
   "cell_type": "code",
   "execution_count": 6,
   "id": "b791a312",
   "metadata": {},
   "outputs": [
    {
     "name": "stdout",
     "output_type": "stream",
     "text": [
      "ViP with L=16 and 26274390 parameters\n",
      "64/64 [==============================] - 2s 16ms/step\n",
      "64/64 [==============================] - 1s 14ms/step\n",
      "64/64 [==============================] - 1s 14ms/step\n",
      "64/64 [==============================] - 1s 13ms/step\n",
      "64/64 [==============================] - 1s 13ms/step\n",
      "Inference Time: 1266.076\n",
      "*******************************************************************************\n",
      "ViP with L=64 and 21580374 parameters\n",
      "64/64 [==============================] - 2s 19ms/step\n",
      "64/64 [==============================] - 1s 13ms/step\n",
      "64/64 [==============================] - 1s 13ms/step\n",
      "64/64 [==============================] - 1s 13ms/step\n",
      "64/64 [==============================] - 1s 12ms/step\n",
      "Inference Time: 1246.187\n",
      "*******************************************************************************\n",
      "ViP with L=256 and 20499030 parameters\n",
      "64/64 [==============================] - 2s 19ms/step\n",
      "64/64 [==============================] - 1s 15ms/step\n",
      "64/64 [==============================] - 1s 14ms/step\n",
      "64/64 [==============================] - 1s 14ms/step\n",
      "64/64 [==============================] - 1s 14ms/step\n",
      "Inference Time: 1363.749\n",
      "*******************************************************************************\n",
      "ViP with L=1024 and 20597334 parameters\n",
      "64/64 [==============================] - 2s 19ms/step\n",
      "64/64 [==============================] - 1s 19ms/step\n",
      "64/64 [==============================] - 1s 19ms/step\n",
      "64/64 [==============================] - 1s 19ms/step\n",
      "64/64 [==============================] - 1s 20ms/step\n",
      "Inference Time: 1587.509\n",
      "*******************************************************************************\n",
      "ViP with L=4096 and 22096470 parameters\n",
      "64/64 [==============================] - 4s 49ms/step\n",
      "64/64 [==============================] - 3s 48ms/step\n",
      "64/64 [==============================] - 3s 47ms/step\n",
      "64/64 [==============================] - 3s 47ms/step\n",
      "64/64 [==============================] - 3s 47ms/step\n",
      "Inference Time: 3374.98\n",
      "*******************************************************************************\n",
      "ViP with L=16384 and 28369494 parameters\n",
      "64/64 [==============================] - 11s 163ms/step\n",
      "64/64 [==============================] - 10s 161ms/step\n",
      "64/64 [==============================] - 10s 161ms/step\n",
      "64/64 [==============================] - 10s 162ms/step\n",
      "64/64 [==============================] - 10s 162ms/step\n",
      "Inference Time: 10667.826\n",
      "*******************************************************************************\n"
     ]
    }
   ],
   "source": [
    "from utils import ViP_inf_time_check\n",
    "vip_inf = ViP_inf_time_check(default_params_1, default_params_2, ViP_params, patch_size_vip, test_sample)"
   ]
  },
  {
   "cell_type": "code",
   "execution_count": 7,
   "id": "a16e0163",
   "metadata": {},
   "outputs": [],
   "source": [
    "inf_time = [vit_inf, vip_inf]\n",
    "log_file = '\\d_512.pkl'\n",
    "log_name = '\\log\\inference_time' + log_file\n",
    "log_path = parent_dir + log_name\n",
    "with open(log_path, 'wb') as file:\n",
    "    pickle.dump(inf_time, file)"
   ]
  },
  {
   "cell_type": "code",
   "execution_count": 8,
   "id": "5053e736",
   "metadata": {},
   "outputs": [
    {
     "data": {
      "image/png": "[encoded data removed]",
      "text/plain": [
       "<Figure size 640x480 with 1 Axes>"
      ]
     },
     "metadata": {},
     "output_type": "display_data"
    }
   ],
   "source": [
    "logL_vit = np.log2([16, 64, 256, 1024, 4096])\n",
    "logL_vip = np.log2([16, 64, 256, 1024, 4096, 16384])\n",
    "plt.title(f'Inference time over {batch_size} test samples')\n",
    "plt.xlabel('log2(L)')\n",
    "plt.plot(logL_vit, vit_inf, label='ViT')\n",
    "plt.plot(logL_vip, vip_inf, label='ViP with RF_16_softmax')\n",
    "plt.ylabel('Time (ms)')\n",
    "plt.legend()\n",
    "plt.grid()"
   ]
  },
  {
   "cell_type": "code",
   "execution_count": null,
   "id": "17c3284c",
   "metadata": {},
   "outputs": [],
   "source": []
  }
 ],
 "metadata": {
  "kernelspec": {
   "display_name": "Python 3 (ipykernel)",
   "language": "python",
   "name": "python3"
  },
  "language_info": {
   "codemirror_mode": {
    "name": "ipython",
    "version": 3
   },
   "file_extension": ".py",
   "mimetype": "text/x-python",
   "name": "python",
   "nbconvert_exporter": "python",
   "pygments_lexer": "ipython3",
   "version": "3.9.15"
  }
 },
 "nbformat": 4,
 "nbformat_minor": 5
}
